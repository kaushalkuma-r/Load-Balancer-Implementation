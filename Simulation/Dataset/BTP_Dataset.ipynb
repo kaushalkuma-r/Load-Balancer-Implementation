{
  "cells": [
    {
      "cell_type": "code",
      "execution_count": 2,
      "metadata": {
        "id": "sUq-NfaaFr0w"
      },
      "outputs": [],
      "source": [
        "import numpy as np \n",
        "import pandas as pd\n",
        "import random\n"
      ]
    },
    {
      "cell_type": "markdown",
      "metadata": {
        "id": "n0jhJ1Bu__rd"
      },
      "source": [
        "# Creating the task dataset"
      ]
    },
    {
      "cell_type": "code",
      "execution_count": 3,
      "metadata": {
        "colab": {
          "base_uri": "https://localhost:8080/"
        },
        "id": "FkxYahPg7R8j",
        "outputId": "5f7d7ddf-9ee5-45ad-c46d-a4b079d483e5"
      },
      "outputs": [
        {
          "name": "stdout",
          "output_type": "stream",
          "text": [
            "Enter the step length for memory\n"
          ]
        }
      ],
      "source": [
        "CPU=[]\n",
        "MEMORY=[]\n",
        "# n is the number of tasks that you want to want to generate\n",
        "n = int(input())\n",
        "#steps is the step length between task length to preserve uniformity.\n",
        "steps=int(input())\n",
        "print(\"Enter the step length for memory\")\n",
        "memory_steps=int(input())\n",
        "for i in range(n):\n",
        "  CPU.append(random.randrange(100,1200,steps))\n",
        "  MEMORY.append(random.randrange(1000,64000,memory_steps))"
      ]
    },
    {
      "cell_type": "code",
      "execution_count": 4,
      "metadata": {
        "colab": {
          "base_uri": "https://localhost:8080/"
        },
        "id": "qheQFWpQ-w8R",
        "outputId": "4b63b4a1-b34a-431c-a711-c3409f85ee54"
      },
      "outputs": [
        {
          "data": {
            "text/plain": [
              "([140, 100, 100, 1120, 540, 500, 440, 520, 720, 240, 1100, 1000],\n",
              " [31800,\n",
              "  12560,\n",
              "  47360,\n",
              "  16640,\n",
              "  49980,\n",
              "  36200,\n",
              "  23560,\n",
              "  11980,\n",
              "  63040,\n",
              "  7540,\n",
              "  10720,\n",
              "  44400])"
            ]
          },
          "execution_count": 4,
          "metadata": {},
          "output_type": "execute_result"
        }
      ],
      "source": [
        "CPU,MEMORY"
      ]
    },
    {
      "cell_type": "code",
      "execution_count": 5,
      "metadata": {
        "id": "_rkk3ySILwoh"
      },
      "outputs": [],
      "source": [
        "task_dict = {'CPU': CPU, 'Memory': MEMORY}  \n",
        "tasks = pd.DataFrame(task_dict)  "
      ]
    },
    {
      "cell_type": "markdown",
      "metadata": {
        "id": "_dfOMxGrANdT"
      },
      "source": [
        "# Creating the datasets for the Virtual Machines and Hosts"
      ]
    },
    {
      "cell_type": "code",
      "execution_count": 6,
      "metadata": {
        "id": "75oilHp9ALcV"
      },
      "outputs": [
        {
          "name": "stdout",
          "output_type": "stream",
          "text": [
            "Enter the step length for memory\n"
          ]
        }
      ],
      "source": [
        "CPU=[]\n",
        "MEMORY=[]\n",
        "# n is the number of tasks that you want to want to generate\n",
        "n = int(input())\n",
        "#steps is the step length between task length to preserve uniformity.\n",
        "steps=int(input())\n",
        "print(\"Enter the step length for memory\")\n",
        "memory_steps=int(input())\n",
        "for i in range(n):\n",
        "  CPU.append(random.randrange(100,1200,steps))\n",
        "  MEMORY.append(random.randrange(1000,64000,memory_steps))"
      ]
    },
    {
      "cell_type": "code",
      "execution_count": 7,
      "metadata": {
        "id": "c2efCyyL-4Fg"
      },
      "outputs": [],
      "source": [
        "hosts_dict={'CPU':CPU,'Memory':MEMORY}\n",
        "host_dataset=pd.DataFrame(hosts_dict)"
      ]
    },
    {
      "cell_type": "code",
      "execution_count": 8,
      "metadata": {
        "id": "mXfhTgoEBlqC"
      },
      "outputs": [],
      "source": [
        "host_dataset.to_csv(\"hosts.csv\")"
      ]
    },
    {
      "cell_type": "code",
      "execution_count": 9,
      "metadata": {
        "id": "D2EnQ1HpH91a"
      },
      "outputs": [],
      "source": [
        "tasks.to_csv(\"tasks.csv\")"
      ]
    },
    {
      "cell_type": "code",
      "execution_count": null,
      "metadata": {
        "id": "9unbSYrxIHO_"
      },
      "outputs": [],
      "source": []
    }
  ],
  "metadata": {
    "colab": {
      "collapsed_sections": [],
      "provenance": []
    },
    "kernelspec": {
      "display_name": "Python 3.10.6 64-bit",
      "language": "python",
      "name": "python3"
    },
    "language_info": {
      "codemirror_mode": {
        "name": "ipython",
        "version": 3
      },
      "file_extension": ".py",
      "mimetype": "text/x-python",
      "name": "python",
      "nbconvert_exporter": "python",
      "pygments_lexer": "ipython3",
      "version": "3.10.6"
    },
    "vscode": {
      "interpreter": {
        "hash": "916dbcbb3f70747c44a77c7bcd40155683ae19c65e1c03b4aa3499c5328201f1"
      }
    }
  },
  "nbformat": 4,
  "nbformat_minor": 0
}
